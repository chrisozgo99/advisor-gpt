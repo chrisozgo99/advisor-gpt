{
  "nbformat": 4,
  "nbformat_minor": 0,
  "metadata": {
    "colab": {
      "provenance": [],
      "machine_shape": "hm",
      "gpuType": "A100"
    },
    "kernelspec": {
      "name": "python3",
      "display_name": "Python 3"
    },
    "language_info": {
      "name": "python"
    },
    "widgets": {
      "application/vnd.jupyter.widget-state+json": {}
    },
    "accelerator": "GPU"
  },
  "cells": [
    {
      "cell_type": "markdown",
      "source": [
        "# Notebook Example of LMQG\n",
        "This is a colab notebook of [`lmqg`](https://github.com/asahi417/lm-question-generation#lmqg-language-model-for-question-generation-)."
      ],
      "metadata": {
        "id": "teHzLo4owK3j"
      }
    },
    {
      "cell_type": "code",
      "execution_count": null,
      "metadata": {
        "id": "L6m9o9YV0j7O"
      },
      "outputs": [],
      "source": [
        "!pip install lmqg"
      ]
    },
    {
      "cell_type": "code",
      "source": [
        "from pprint import pprint\n",
        "from lmqg import TransformersQG\n",
        "import json\n"
      ],
      "metadata": {
        "id": "XrYqvzLjZwev"
      },
      "execution_count": 3,
      "outputs": []
    },
    {
      "cell_type": "markdown",
      "source": [
        "## Question and Answer Generation (Multitask)\n"
      ],
      "metadata": {
        "id": "2g2jfXXff0Fk"
      }
    },
    {
      "cell_type": "code",
      "source": [
        "# initialize model\n",
        "model = TransformersQG(language='en', model='lmqg/t5-base-squad-qg-ae')"
      ],
      "metadata": {
        "id": "zG1JjAHyf0R1",
        "outputId": "08ce1cc7-aed6-47b6-da4e-73285e7ab89a",
        "colab": {
          "base_uri": "https://localhost:8080/",
          "height": 91,
          "referenced_widgets": [
            "2d195bc553ea49f1b0442d80d85c24a8"
          ]
        }
      },
      "execution_count": 14,
      "outputs": [
        {
          "output_type": "display_data",
          "data": {
            "text/plain": [
              "pytorch_model.bin:   0%|          | 0.00/892M [00:00<?, ?B/s]"
            ],
            "application/vnd.jupyter.widget-view+json": {
              "version_major": 2,
              "version_minor": 0,
              "model_id": "2d195bc553ea49f1b0442d80d85c24a8"
            }
          },
          "metadata": {}
        },
        {
          "output_type": "stream",
          "name": "stderr",
          "text": [
            "/usr/local/lib/python3.10/dist-packages/transformers/utils/hub.py:374: FutureWarning: The `use_auth_token` argument is deprecated and will be removed in v5 of Transformers. Please use `token` instead.\n",
            "  warnings.warn(\n"
          ]
        }
      ]
    },
    {
      "cell_type": "code",
      "source": [
        "context = '''\n",
        "The \"Bioengineering and Electrical Energy Systems\" concentration is a concentration within the Electrical Engineering major, requiring a total of 129 credit hours. The four-year plan is detailed as follows:\n",
        "\n",
        "First Year: Fall semester includes CHEM 1310 (4 credit hours), CS 1301 (3 credit hours), ECE 1100 (1 credit hour), ENGL 1101 (3 credit hours), MATH 1551 (2 credit hours), and MATH 1554 (4 credit hours), totaling 17 credit hours.\n",
        "First Year: Spring semester courses are ECE 2020 (3 credit hours), ENGL 1102 (3 credit hours), MATH 1552 (4 credit hours), PHYS 2211 (4 credit hours), and a History/Government Elective (3 credit hours), also summing to 17 credit hours.\n",
        "\n",
        "Second Year: Fall semester involves ECE 2026 (3 credit hours), an Economics/Social Science Elective (3 credit hours), a Humanities Elective (3 credit hours), MATH 2552 (4 credit hours), and PHYS 2212 (4 credit hours), totaling 17 credit hours.\n",
        "Second Year: Spring semester has ECE 2031 (2 credit hours), ECE 2035 or 2036 (4 credit hours), ECE 2040 (3 credit hours), MATH 2551 (4 credit hours), and a Science Elective (3 credit hours), making up 16 credit hours.\n",
        "'''\n",
        "\n",
        "question_answer = model.generate_qa(context)\n",
        "\n",
        "pprint(question_answer)"
      ],
      "metadata": {
        "colab": {
          "base_uri": "https://localhost:8080/"
        },
        "id": "pUEzY1i6f05G",
        "outputId": "a6c7b939-85e6-4ecd-dc8d-5773f90275a6"
      },
      "execution_count": 18,
      "outputs": [
        {
          "output_type": "stream",
          "name": "stderr",
          "text": [
            "100%|██████████| 8/8 [00:00<00:00, 697.42it/s]\n",
            "100%|██████████| 8/8 [00:00<00:00, 694.62it/s]\n"
          ]
        },
        {
          "output_type": "stream",
          "name": "stdout",
          "text": [
            "[('What concentration requires 129 credit hours?',\n",
            "  '\"Bioengineering and Electrical Energy Systems\"'),\n",
            " ('What is the plan for the concentration in Bioengineering and Electrical '\n",
            "  'Energy Systems?',\n",
            "  'four-year plan'),\n",
            " ('What is the first year of the four-year plan?',\n",
            "  'Fall semester includes CHEM 1310 (4 credit hours), CS 1301 (3 credit '\n",
            "  'hours), ECE 1100 (1 credit hour), ENGL 1101 (3 credit hours), MATH 1551 (2 '\n",
            "  'credit hours), and MATH 1554'),\n",
            " ('What courses are included in the Fall semester?',\n",
            "  'CHEM 1310 (4 credit hours), CS 1301 (3 credit hours), ECE 1100 (1 credit '\n",
            "  'hour), ENGL 1101 (3 credit hours), MATH 1551 (2 credit hours), and MATH '\n",
            "  '1554'),\n",
            " ('What is the name of the Spring semester courses?',\n",
            "  'ECE 2020 (3 credit hours), ENGL 1102 (3 credit hours), MATH 1552 (4 credit '\n",
            "  'hours), PHYS 2211 (4 credit hours), and a History/Government Elective'),\n",
            " ('What are the four courses in the Fall semester?',\n",
            "  'ECE 2026 (3 credit hours), an Economics/Social Science Elective (3 credit '\n",
            "  'hours), a Humanities Elective (3 credit hours), MATH 2552 (4 credit hours), '\n",
            "  'and PHYS 2212'),\n",
            " ('What is the name of the Fall semester course?', 'ECE 2026'),\n",
            " ('What three courses are in the Spring semester?',\n",
            "  'ECE 2031 (2 credit hours), ECE 2035 or 2036 (4 credit hours), ECE 2040 (3 '\n",
            "  'credit hours), MATH 2551 (4 credit hours), and a Science Elective')]\n"
          ]
        }
      ]
    },
    {
      "cell_type": "markdown",
      "source": [
        "## Question and Answer Generation (Pipeline)"
      ],
      "metadata": {
        "id": "iKTdBgNKf8jY"
      }
    },
    {
      "cell_type": "code",
      "source": [
        "# initialize model\n",
        "model = TransformersQG(model='lmqg/t5-base-squad-qg', model_ae='lmqg/t5-base-squad-ae')"
      ],
      "metadata": {
        "id": "MxiSRT-Sf8wX"
      },
      "execution_count": 4,
      "outputs": []
    },
    {
      "cell_type": "code",
      "source": [
        "handbook = open('graduate-handbook.txt')\n",
        "data = handbook.read().splitlines()\n",
        "size = len(data)\n",
        "context = \"\"\n",
        "\n",
        "\n",
        "for i in range(size):\n",
        "  print(i)\n",
        "  if len(context.split()) < 100:\n",
        "      context += data[i] + \" \"\n",
        "  else:\n",
        "    question_answer = model.generate_qa(context)\n",
        "    # for each qa pair, turn it into the format: \"<s>[INST] question [/INST] answer </s>\"\n",
        "    for qa in question_answer:\n",
        "      formatted_answer = \"<s>[INST] \" + qa[0] + \" [/INST] \" + qa[1] + \" </s>\"\n",
        "\n",
        "      # Write to json file with attribute: \"text\": formatted_answer\n",
        "      with open('questions.json', 'a') as f:\n",
        "          # Add to an array of questions. Do not overwrite the file, simply append to it.\n",
        "          json.dump({\"text\": formatted_answer}, f)\n",
        "          f.write('\\n')\n",
        "\n",
        "    context = \"\"\n"
      ],
      "metadata": {
        "id": "wdzKUAz-gFtF"
      },
      "execution_count": null,
      "outputs": []
    },
    {
      "cell_type": "code",
      "source": [
        "handbook = open('conversational_co_curricular_opportunities.txt')\n",
        "data = handbook.read().splitlines()\n",
        "print(data[1] == '')\n",
        "size = len(data)\n",
        "context = \"\"\n",
        "\n",
        "\n",
        "for i in range(0, size):\n",
        "  # print(i)\n",
        "  print(len(context))\n",
        "  context += data[i] + ' '\n",
        "  if (data[i] == '' and len(context) > 0):\n",
        "    print(context)\n",
        "    question_answer = model.generate_qa(context)\n",
        "    # for each qa pair, turn it into the format: \"<s>[INST] question [/INST] answer </s>\"\n",
        "    for qa in question_answer:\n",
        "      formatted_answer = \"<s>[INST] \" + qa[0] + \" [/INST] \" + qa[1] + \" </s>\"\n",
        "\n",
        "      # Write to json file with attribute: \"text\": formatted_answer\n",
        "      with open('questions.json', 'a') as f:\n",
        "          # Add to an array of questions. Do not overwrite the file, simply append to it.\n",
        "          json.dump({\"text\": formatted_answer}, f)\n",
        "          f.write('\\n')\n",
        "      context = \"\"\n",
        "\n",
        "\n",
        "\n"
      ],
      "metadata": {
        "id": "_iF_h_iJLKrF",
        "colab": {
          "base_uri": "https://localhost:8080/"
        },
        "outputId": "f2f86456-cb58-404c-9d4e-02caa4be1cd4"
      },
      "execution_count": 36,
      "outputs": [
        {
          "output_type": "stream",
          "name": "stdout",
          "text": [
            "True\n",
            "0\n",
            "164\n",
            "Georgia Tech offers a myriad of co-curricular opportunities for students, enriching their academic experience with practical involvement. Here are some highlights:  \n"
          ]
        },
        {
          "output_type": "stream",
          "name": "stderr",
          "text": [
            "100%|██████████| 2/2 [00:00<00:00, 895.17it/s]\n",
            "100%|██████████| 2/2 [00:00<00:00, 987.36it/s]\n"
          ]
        },
        {
          "output_type": "stream",
          "name": "stdout",
          "text": [
            "0\n",
            "355\n",
            "Student Organizations: Georgia Tech has more than 300 student groups, including many that are ECE-specific such as Institute of Electrical and Electronics Engineers (IEEE) Georgia Tech Chapter; Women in ECE (WECE); and Eta Kappa Nu, the Electrical and Computer Engineering Honors Society. Learn more at https://gatech.campuslabs.com/engage/organizations.  \n"
          ]
        },
        {
          "output_type": "stream",
          "name": "stderr",
          "text": [
            "100%|██████████| 2/2 [00:00<00:00, 767.13it/s]\n",
            "100%|██████████| 2/2 [00:00<00:00, 896.79it/s]\n"
          ]
        },
        {
          "output_type": "stream",
          "name": "stdout",
          "text": [
            "0\n",
            "358\n",
            "Vertically Integrated Projects (VIP) Program: The Vertically Integrated Projects (VIP) Program unites undergraduate education and faculty research in a team-based context. Undergraduate VIP students earn academic credits, while faculty and graduate students benefit from the design/discovery efforts of their teams. Learn more at http://www.vip.gatech.edu/.  \n"
          ]
        },
        {
          "output_type": "stream",
          "name": "stderr",
          "text": [
            "100%|██████████| 4/4 [00:00<00:00, 1166.38it/s]\n",
            "100%|██████████| 4/4 [00:00<00:00, 1124.63it/s]\n"
          ]
        },
        {
          "output_type": "stream",
          "name": "stdout",
          "text": [
            "0\n",
            "353\n",
            "Opportunity Research Scholars (ORS) Program: ORS matches undergraduate electrical and computer engineering students with a Ph.D. mentor. Each research team meets weekly to work on a structured research project and attends monthly enrichment workshops addressing a variety of topics related to academic success. Learn more at http://ors.ece.gatech.edu/.  \n"
          ]
        },
        {
          "output_type": "stream",
          "name": "stderr",
          "text": [
            "100%|██████████| 3/3 [00:00<00:00, 986.04it/s]\n",
            "100%|██████████| 3/3 [00:00<00:00, 1077.21it/s]\n"
          ]
        },
        {
          "output_type": "stream",
          "name": "stdout",
          "text": [
            "0\n",
            "293\n",
            "ECE Research Opportunities: The Research Opportunities website hosts open research positions in ECE related fields for undergraduate and graduate students. The website also lists current ECE research labs and research opportunities Learn more at https://researchopportunities.ece.gatech.edu/.  \n"
          ]
        },
        {
          "output_type": "stream",
          "name": "stderr",
          "text": [
            "100%|██████████| 2/2 [00:00<00:00, 967.99it/s]\n",
            "100%|██████████| 2/2 [00:00<00:00, 1012.99it/s]\n"
          ]
        },
        {
          "output_type": "stream",
          "name": "stdout",
          "text": [
            "0\n",
            "371\n",
            "Undergraduate Research Opportunities Program (UROP): ECE's traditional undergraduate research program has been in place for over 20 years and offers students a chance to work on individual research projects with ECE faculty. Students who complete both semesters of UROP research can count the 3 credit hours as ECE elective hours. Learn more at https://urop.gatech.edu/.  \n"
          ]
        },
        {
          "output_type": "stream",
          "name": "stderr",
          "text": [
            "100%|██████████| 3/3 [00:00<00:00, 902.97it/s]\n",
            "100%|██████████| 3/3 [00:00<00:00, 1014.91it/s]\n"
          ]
        },
        {
          "output_type": "stream",
          "name": "stdout",
          "text": [
            "0\n",
            "507\n",
            "ECE Transfer Initiative for Engineering Scholars (TIES): TIES is funded through a competitive review process by the National Science Foundation’s (NSF) Scholarships in Science, Technology, Engineering, and Mathematics Program (S-STEM). ECE has been awarded this grant to benefit students transferring from two- and four-year schools and majoring in electrical or computer engineering. TIES consists of two components: TIES Enrichment Program and TIES Scholarships Learn more at http://ties.ece.gatech.edu/.  \n"
          ]
        },
        {
          "output_type": "stream",
          "name": "stderr",
          "text": [
            "100%|██████████| 3/3 [00:00<00:00, 771.58it/s]\n",
            "100%|██████████| 3/3 [00:00<00:00, 902.91it/s]\n"
          ]
        },
        {
          "output_type": "stream",
          "name": "stdout",
          "text": [
            "0\n",
            "518\n",
            "Engineering for Social Innovation Center (ESI): ESI supports a collection of ongoing projects, which are selected from corporate and non-profit organizations. All projects aim to improve the lives of the underprivileged domestic population or people at the bottom of pyramid in the developing world. Undergraduates can work in the Center by designing something new, improving an existing product, conducting interdisciplinary research, or becoming a Grand Challenges Scholar. Learn more at http://www.esi.gatech.edu/.  \n"
          ]
        },
        {
          "output_type": "stream",
          "name": "stderr",
          "text": [
            "100%|██████████| 4/4 [00:00<00:00, 972.71it/s]\n",
            "100%|██████████| 4/4 [00:00<00:00, 1111.96it/s]\n"
          ]
        },
        {
          "output_type": "stream",
          "name": "stdout",
          "text": [
            "0\n",
            "203\n",
            "Create-X: CREATE-X is a collective of programs designed to boost students' entrepreneurial confidence and give them the tools they need to establish startups. Learn more at https://create-x.gatech.edu/.  \n"
          ]
        },
        {
          "output_type": "stream",
          "name": "stderr",
          "text": [
            "100%|██████████| 2/2 [00:00<00:00, 1181.00it/s]\n",
            "100%|██████████| 2/2 [00:00<00:00, 1001.27it/s]\n"
          ]
        },
        {
          "output_type": "stream",
          "name": "stdout",
          "text": [
            "0\n",
            "484\n",
            "Grand Challenges: Established in 2012 as a part of the Leadership Education and Development Program within the Division of Student Affairs and in partnership with the College of Engineering, Grand Challenges Living Learning Community promotes student-driven, cross-disciplinary teams that investigate societally relevant technological and sociological problems. The program is open to all entering Georgia Tech students of any major. Learn more at http://grandchallenges.gatech.edu/.  \n"
          ]
        },
        {
          "output_type": "stream",
          "name": "stderr",
          "text": [
            "100%|██████████| 3/3 [00:00<00:00, 813.80it/s]\n",
            "100%|██████████| 3/3 [00:00<00:00, 992.42it/s]\n"
          ]
        },
        {
          "output_type": "stream",
          "name": "stdout",
          "text": [
            "0\n",
            "283\n",
            "InVenture Prize: Nicknamed 'American Idol for Nerds,' the InVenture Prize at Georgia Tech is an interdisciplinary innovation competition open to all undergraduate students and recent graduates of the Georgia Institute of Technology. Learn more at https://inventureprize.gatech.edu/.  \n"
          ]
        },
        {
          "output_type": "stream",
          "name": "stderr",
          "text": [
            "100%|██████████| 3/3 [00:00<00:00, 1021.09it/s]\n",
            "100%|██████████| 3/3 [00:00<00:00, 1130.03it/s]\n"
          ]
        }
      ]
    }
  ]
}